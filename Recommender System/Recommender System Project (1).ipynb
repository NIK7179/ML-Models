{
 "cells": [
  {
   "cell_type": "code",
   "execution_count": 1,
   "id": "55f1f1d3",
   "metadata": {},
   "outputs": [
    {
     "name": "stdout",
     "output_type": "stream",
     "text": [
      "   user_id  item_id  rating  timestamp         title\n",
      "0      196      242       3  881250949  Kolya (1996)\n",
      "1       63      242       3  875747190  Kolya (1996)\n",
      "2      226      242       5  883888671  Kolya (1996)\n",
      "3      154      242       3  879138235  Kolya (1996)\n",
      "4      306      242       5  876503793  Kolya (1996)\n"
     ]
    }
   ],
   "source": [
    "import pandas as pd\n",
    "\n",
    "# Load the MovieLens dataset (100k dataset for simplicity)\n",
    "url = \"http://files.grouplens.org/datasets/movielens/ml-100k/u.data\"\n",
    "columns = ['user_id', 'item_id', 'rating', 'timestamp']\n",
    "ratings = pd.read_csv(url, sep='\\t', names=columns)\n",
    "\n",
    "# Load movie titles for the items\n",
    "url_movies = \"http://files.grouplens.org/datasets/movielens/ml-100k/u.item\"\n",
    "movies_columns = ['item_id', 'title', 'release_date', 'video_release_date', 'IMDb_URL', 'unknown', 'Action', 'Adventure', 'Animation', \n",
    "                  'Children', 'Comedy', 'Crime', 'Documentary', 'Drama', 'Fantasy', 'Film-Noir', 'Horror', 'Musical', 'Mystery', 'Romance', \n",
    "                  'Sci-Fi', 'Thriller', 'War', 'Western']\n",
    "movies = pd.read_csv(url_movies, sep='|', names=movies_columns, encoding='latin-1')\n",
    "\n",
    "# Merge ratings and movie titles\n",
    "data = pd.merge(ratings, movies[['item_id', 'title']], on='item_id')\n",
    "\n",
    "# Display first few rows of the dataset\n",
    "print(data.head())\n"
   ]
  },
  {
   "cell_type": "code",
   "execution_count": 2,
   "id": "b31d2016",
   "metadata": {},
   "outputs": [
    {
     "name": "stdout",
     "output_type": "stream",
     "text": [
      "item_id  1     2     3     4     5     6     7     8     9     10    ...  \\\n",
      "user_id                                                              ...   \n",
      "1         5.0   3.0   4.0   3.0   3.0   5.0   4.0   1.0   5.0   3.0  ...   \n",
      "2         4.0   0.0   0.0   0.0   0.0   0.0   0.0   0.0   0.0   2.0  ...   \n",
      "3         0.0   0.0   0.0   0.0   0.0   0.0   0.0   0.0   0.0   0.0  ...   \n",
      "4         0.0   0.0   0.0   0.0   0.0   0.0   0.0   0.0   0.0   0.0  ...   \n",
      "5         4.0   3.0   0.0   0.0   0.0   0.0   0.0   0.0   0.0   0.0  ...   \n",
      "\n",
      "item_id  1673  1674  1675  1676  1677  1678  1679  1680  1681  1682  \n",
      "user_id                                                              \n",
      "1         0.0   0.0   0.0   0.0   0.0   0.0   0.0   0.0   0.0   0.0  \n",
      "2         0.0   0.0   0.0   0.0   0.0   0.0   0.0   0.0   0.0   0.0  \n",
      "3         0.0   0.0   0.0   0.0   0.0   0.0   0.0   0.0   0.0   0.0  \n",
      "4         0.0   0.0   0.0   0.0   0.0   0.0   0.0   0.0   0.0   0.0  \n",
      "5         0.0   0.0   0.0   0.0   0.0   0.0   0.0   0.0   0.0   0.0  \n",
      "\n",
      "[5 rows x 1682 columns]\n"
     ]
    }
   ],
   "source": [
    "# Keep only relevant columns\n",
    "data = data[['user_id', 'item_id', 'rating']]\n",
    "\n",
    "# Create a user-item matrix\n",
    "user_item_matrix = data.pivot_table(index='user_id', columns='item_id', values='rating')\n",
    "\n",
    "# Fill missing values with 0 (or we could use another imputation technique)\n",
    "user_item_matrix.fillna(0, inplace=True)\n",
    "\n",
    "# Display the user-item matrix\n",
    "print(user_item_matrix.head())\n"
   ]
  },
  {
   "cell_type": "code",
   "execution_count": 3,
   "id": "6238ad60",
   "metadata": {},
   "outputs": [
    {
     "name": "stdout",
     "output_type": "stream",
     "text": [
      "User Factors Matrix Shape: (943, 50)\n"
     ]
    }
   ],
   "source": [
    "from sklearn.decomposition import TruncatedSVD\n",
    "\n",
    "# Apply SVD (decomposing the user-item matrix into latent factors)\n",
    "svd = TruncatedSVD(n_components=50, random_state=42)\n",
    "user_factors = svd.fit_transform(user_item_matrix)\n",
    "\n",
    "# Display the shape of the resulting matrix\n",
    "print(f\"User Factors Matrix Shape: {user_factors.shape}\")\n"
   ]
  },
  {
   "cell_type": "code",
   "execution_count": 6,
   "id": "97d178be",
   "metadata": {},
   "outputs": [
    {
     "name": "stdout",
     "output_type": "stream",
     "text": [
      "Requirement already satisfied: xgboost in c:\\users\\nikhi\\anaconda3\\lib\\site-packages (2.1.1)Note: you may need to restart the kernel to use updated packages.\n",
      "\n",
      "Requirement already satisfied: numpy in c:\\users\\nikhi\\anaconda3\\lib\\site-packages (from xgboost) (1.23.5)\n",
      "Requirement already satisfied: scipy in c:\\users\\nikhi\\anaconda3\\lib\\site-packages (from xgboost) (1.10.0)\n"
     ]
    }
   ],
   "source": [
    "pip install xgboost\n"
   ]
  },
  {
   "cell_type": "code",
   "execution_count": 11,
   "id": "949f4460",
   "metadata": {},
   "outputs": [
    {
     "name": "stderr",
     "output_type": "stream",
     "text": [
      "C:\\Users\\nikhi\\anaconda3\\lib\\site-packages\\xgboost\\core.py:158: UserWarning: [18:05:49] WARNING: C:\\buildkite-agent\\builds\\buildkite-windows-cpu-autoscaling-group-i-0015a694724fa8361-1\\xgboost\\xgboost-ci-windows\\src\\learner.cc:740: \n",
      "Parameters: { \"n_estimators\" } are not used.\n",
      "\n",
      "  warnings.warn(smsg, UserWarning)\n"
     ]
    },
    {
     "name": "stdout",
     "output_type": "stream",
     "text": [
      "XGBoost RMSE: 1.0381101314287668\n"
     ]
    }
   ],
   "source": [
    "import xgboost as xgb\n",
    "from sklearn.model_selection import train_test_split\n",
    "\n",
    "# Prepare the feature set: user_id, item_id (more features can be added if available)\n",
    "X = data[['user_id', 'item_id']]\n",
    "y = data['rating']\n",
    "\n",
    "# Train-test split\n",
    "X_train, X_test, y_train, y_test = train_test_split(X, y, test_size=0.2, random_state=42)\n",
    "\n",
    "# Convert to DMatrix for XGBoost\n",
    "train_dmatrix = xgb.DMatrix(X_train, label=y_train)\n",
    "test_dmatrix = xgb.DMatrix(X_test, label=y_test)\n",
    "\n",
    "# Define XGBoost parameters\n",
    "params = {\n",
    "    'objective': 'reg:squarederror',  # For regression (rating prediction)\n",
    "    'max_depth': 6,\n",
    "    'learning_rate': 0.1,\n",
    "    'n_estimators': 100\n",
    "}\n",
    "\n",
    "# Train XGBoost model\n",
    "xg_reg = xgb.train(params, train_dmatrix, num_boost_round=100)\n",
    "\n",
    "# Predict ratings for test set\n",
    "y_pred_xgb = xg_reg.predict(test_dmatrix)\n",
    "\n",
    "# Evaluate with RMSE\n",
    "from sklearn.metrics import mean_squared_error\n",
    "rmse_xgb = mean_squared_error(y_test, y_pred_xgb, squared=False)\n",
    "print(f\"XGBoost RMSE: {rmse_xgb}\")\n"
   ]
  },
  {
   "cell_type": "code",
   "execution_count": 8,
   "id": "0b0db38f",
   "metadata": {},
   "outputs": [
    {
     "name": "stdout",
     "output_type": "stream",
     "text": [
      "513                          Annie Hall (1977)\n",
      "666                         Audrey Rose (1977)\n",
      "1090                      Pete's Dragon (1977)\n",
      "1292                           Star Kid (1997)\n",
      "123                           Lone Star (1996)\n",
      "1060                  Evening Star, The (1996)\n",
      "1264                          Star Maps (1997)\n",
      "221            Star Trek: First Contact (1996)\n",
      "379              Star Trek: Generations (1994)\n",
      "449     Star Trek V: The Final Frontier (1989)\n",
      "Name: title, dtype: object\n"
     ]
    }
   ],
   "source": [
    "from sklearn.feature_extraction.text import TfidfVectorizer\n",
    "from sklearn.metrics.pairwise import cosine_similarity\n",
    "\n",
    "# Suppose we have movie descriptions (in real cases, scrape or load movie metadata)\n",
    "# For now, we will use 'title' as a proxy for description\n",
    "movie_titles = movies['title']\n",
    "\n",
    "# Apply TF-IDF to the movie titles\n",
    "tfidf = TfidfVectorizer(stop_words='english')\n",
    "tfidf_matrix = tfidf.fit_transform(movie_titles)\n",
    "\n",
    "# Compute the cosine similarity between movies\n",
    "cosine_sim = cosine_similarity(tfidf_matrix, tfidf_matrix)\n",
    "\n",
    "# Function to get movie recommendations based on cosine similarity\n",
    "def get_recommendations(movie_title, cosine_sim=cosine_sim):\n",
    "    # Get the index of the movie that matches the title\n",
    "    idx = movies[movies['title'] == movie_title].index[0]\n",
    "\n",
    "    # Get the pairwise similarity scores of all movies with that movie\n",
    "    sim_scores = list(enumerate(cosine_sim[idx]))\n",
    "\n",
    "    # Sort the movies based on the similarity scores\n",
    "    sim_scores = sorted(sim_scores, key=lambda x: x[1], reverse=True)\n",
    "\n",
    "    # Get the indices of the 10 most similar movies\n",
    "    movie_indices = [i[0] for i in sim_scores[1:11]]\n",
    "\n",
    "    # Return the top 10 most similar movies\n",
    "    return movie_titles.iloc[movie_indices]\n",
    "\n",
    "# Test the function\n",
    "print(get_recommendations('Star Wars (1977)'))\n"
   ]
  },
  {
   "cell_type": "code",
   "execution_count": 12,
   "id": "239e0a06",
   "metadata": {},
   "outputs": [
    {
     "data": {
      "text/plain": [
       "array([2.57378802, 1.94288271, 2.10922333, ..., 2.10909809, 2.11092349,\n",
       "       2.10036856])"
      ]
     },
     "execution_count": 12,
     "metadata": {},
     "output_type": "execute_result"
    }
   ],
   "source": [
    "# Function to combine predictions from Matrix Factorization (SVD) and Gradient Boosting (XGBoost)\n",
    "def hybrid_model_predictions(user_id, movie_title, weight_cf=0.5, weight_gb=0.5):\n",
    "    # Collaborative Filtering Prediction\n",
    "    user_idx = user_id - 1\n",
    "    user_ratings_pred_cf = user_factors[user_idx, :].dot(svd.components_)\n",
    "    \n",
    "    # XGBoost Prediction\n",
    "    user_data_xgb = pd.DataFrame({'user_id': [user_id], 'item_id': [movies[movies['title'] == movie_title]['item_id'].values[0]]})\n",
    "    user_dmatrix = xgb.DMatrix(user_data_xgb)\n",
    "    rating_pred_xgb = xg_reg.predict(user_dmatrix)[0]\n",
    "    \n",
    "    # Combine predictions with a weighted average\n",
    "    final_prediction = (user_ratings_pred_cf + rating_pred_xgb) / 2\n",
    "    return final_prediction\n",
    "\n",
    "# Test the hybrid model\n",
    "user_id = 10\n",
    "movie_title = \"Star Wars (1977)\"\n",
    "hybrid_model_predictions(user_id, movie_title)\n"
   ]
  },
  {
   "cell_type": "code",
   "execution_count": 13,
   "id": "300d3c5c",
   "metadata": {},
   "outputs": [
    {
     "name": "stdout",
     "output_type": "stream",
     "text": [
      "Best Parameters: {'learning_rate': 0.2, 'max_depth': 4, 'n_estimators': 200}\n"
     ]
    },
    {
     "data": {
      "text/html": [
       "<style>#sk-container-id-1 {color: black;background-color: white;}#sk-container-id-1 pre{padding: 0;}#sk-container-id-1 div.sk-toggleable {background-color: white;}#sk-container-id-1 label.sk-toggleable__label {cursor: pointer;display: block;width: 100%;margin-bottom: 0;padding: 0.3em;box-sizing: border-box;text-align: center;}#sk-container-id-1 label.sk-toggleable__label-arrow:before {content: \"▸\";float: left;margin-right: 0.25em;color: #696969;}#sk-container-id-1 label.sk-toggleable__label-arrow:hover:before {color: black;}#sk-container-id-1 div.sk-estimator:hover label.sk-toggleable__label-arrow:before {color: black;}#sk-container-id-1 div.sk-toggleable__content {max-height: 0;max-width: 0;overflow: hidden;text-align: left;background-color: #f0f8ff;}#sk-container-id-1 div.sk-toggleable__content pre {margin: 0.2em;color: black;border-radius: 0.25em;background-color: #f0f8ff;}#sk-container-id-1 input.sk-toggleable__control:checked~div.sk-toggleable__content {max-height: 200px;max-width: 100%;overflow: auto;}#sk-container-id-1 input.sk-toggleable__control:checked~label.sk-toggleable__label-arrow:before {content: \"▾\";}#sk-container-id-1 div.sk-estimator input.sk-toggleable__control:checked~label.sk-toggleable__label {background-color: #d4ebff;}#sk-container-id-1 div.sk-label input.sk-toggleable__control:checked~label.sk-toggleable__label {background-color: #d4ebff;}#sk-container-id-1 input.sk-hidden--visually {border: 0;clip: rect(1px 1px 1px 1px);clip: rect(1px, 1px, 1px, 1px);height: 1px;margin: -1px;overflow: hidden;padding: 0;position: absolute;width: 1px;}#sk-container-id-1 div.sk-estimator {font-family: monospace;background-color: #f0f8ff;border: 1px dotted black;border-radius: 0.25em;box-sizing: border-box;margin-bottom: 0.5em;}#sk-container-id-1 div.sk-estimator:hover {background-color: #d4ebff;}#sk-container-id-1 div.sk-parallel-item::after {content: \"\";width: 100%;border-bottom: 1px solid gray;flex-grow: 1;}#sk-container-id-1 div.sk-label:hover label.sk-toggleable__label {background-color: #d4ebff;}#sk-container-id-1 div.sk-serial::before {content: \"\";position: absolute;border-left: 1px solid gray;box-sizing: border-box;top: 0;bottom: 0;left: 50%;z-index: 0;}#sk-container-id-1 div.sk-serial {display: flex;flex-direction: column;align-items: center;background-color: white;padding-right: 0.2em;padding-left: 0.2em;position: relative;}#sk-container-id-1 div.sk-item {position: relative;z-index: 1;}#sk-container-id-1 div.sk-parallel {display: flex;align-items: stretch;justify-content: center;background-color: white;position: relative;}#sk-container-id-1 div.sk-item::before, #sk-container-id-1 div.sk-parallel-item::before {content: \"\";position: absolute;border-left: 1px solid gray;box-sizing: border-box;top: 0;bottom: 0;left: 50%;z-index: -1;}#sk-container-id-1 div.sk-parallel-item {display: flex;flex-direction: column;z-index: 1;position: relative;background-color: white;}#sk-container-id-1 div.sk-parallel-item:first-child::after {align-self: flex-end;width: 50%;}#sk-container-id-1 div.sk-parallel-item:last-child::after {align-self: flex-start;width: 50%;}#sk-container-id-1 div.sk-parallel-item:only-child::after {width: 0;}#sk-container-id-1 div.sk-dashed-wrapped {border: 1px dashed gray;margin: 0 0.4em 0.5em 0.4em;box-sizing: border-box;padding-bottom: 0.4em;background-color: white;}#sk-container-id-1 div.sk-label label {font-family: monospace;font-weight: bold;display: inline-block;line-height: 1.2em;}#sk-container-id-1 div.sk-label-container {text-align: center;}#sk-container-id-1 div.sk-container {/* jupyter's `normalize.less` sets `[hidden] { display: none; }` but bootstrap.min.css set `[hidden] { display: none !important; }` so we also need the `!important` here to be able to override the default hidden behavior on the sphinx rendered scikit-learn.org. See: https://github.com/scikit-learn/scikit-learn/issues/21755 */display: inline-block !important;position: relative;}#sk-container-id-1 div.sk-text-repr-fallback {display: none;}</style><div id=\"sk-container-id-1\" class=\"sk-top-container\"><div class=\"sk-text-repr-fallback\"><pre>XGBRegressor(base_score=None, booster=None, callbacks=None,\n",
       "             colsample_bylevel=None, colsample_bynode=None,\n",
       "             colsample_bytree=None, device=None, early_stopping_rounds=None,\n",
       "             enable_categorical=False, eval_metric=None, feature_types=None,\n",
       "             gamma=None, grow_policy=None, importance_type=None,\n",
       "             interaction_constraints=None, learning_rate=0.2, max_bin=None,\n",
       "             max_cat_threshold=None, max_cat_to_onehot=None,\n",
       "             max_delta_step=None, max_depth=4, max_leaves=None,\n",
       "             min_child_weight=None, missing=nan, monotone_constraints=None,\n",
       "             multi_strategy=None, n_estimators=200, n_jobs=None,\n",
       "             num_parallel_tree=None, random_state=None, ...)</pre><b>In a Jupyter environment, please rerun this cell to show the HTML representation or trust the notebook. <br />On GitHub, the HTML representation is unable to render, please try loading this page with nbviewer.org.</b></div><div class=\"sk-container\" hidden><div class=\"sk-item\"><div class=\"sk-estimator sk-toggleable\"><input class=\"sk-toggleable__control sk-hidden--visually\" id=\"sk-estimator-id-1\" type=\"checkbox\" checked><label for=\"sk-estimator-id-1\" class=\"sk-toggleable__label sk-toggleable__label-arrow\">XGBRegressor</label><div class=\"sk-toggleable__content\"><pre>XGBRegressor(base_score=None, booster=None, callbacks=None,\n",
       "             colsample_bylevel=None, colsample_bynode=None,\n",
       "             colsample_bytree=None, device=None, early_stopping_rounds=None,\n",
       "             enable_categorical=False, eval_metric=None, feature_types=None,\n",
       "             gamma=None, grow_policy=None, importance_type=None,\n",
       "             interaction_constraints=None, learning_rate=0.2, max_bin=None,\n",
       "             max_cat_threshold=None, max_cat_to_onehot=None,\n",
       "             max_delta_step=None, max_depth=4, max_leaves=None,\n",
       "             min_child_weight=None, missing=nan, monotone_constraints=None,\n",
       "             multi_strategy=None, n_estimators=200, n_jobs=None,\n",
       "             num_parallel_tree=None, random_state=None, ...)</pre></div></div></div></div></div>"
      ],
      "text/plain": [
       "XGBRegressor(base_score=None, booster=None, callbacks=None,\n",
       "             colsample_bylevel=None, colsample_bynode=None,\n",
       "             colsample_bytree=None, device=None, early_stopping_rounds=None,\n",
       "             enable_categorical=False, eval_metric=None, feature_types=None,\n",
       "             gamma=None, grow_policy=None, importance_type=None,\n",
       "             interaction_constraints=None, learning_rate=0.2, max_bin=None,\n",
       "             max_cat_threshold=None, max_cat_to_onehot=None,\n",
       "             max_delta_step=None, max_depth=4, max_leaves=None,\n",
       "             min_child_weight=None, missing=nan, monotone_constraints=None,\n",
       "             multi_strategy=None, n_estimators=200, n_jobs=None,\n",
       "             num_parallel_tree=None, random_state=None, ...)"
      ]
     },
     "execution_count": 13,
     "metadata": {},
     "output_type": "execute_result"
    }
   ],
   "source": [
    "from sklearn.model_selection import GridSearchCV\n",
    "\n",
    "param_grid = {\n",
    "    'max_depth': [4, 6, 8],\n",
    "    'learning_rate': [0.01, 0.1, 0.2],\n",
    "    'n_estimators': [100, 200]\n",
    "}\n",
    "\n",
    "xgb_model = xgb.XGBRegressor(objective='reg:squarederror')\n",
    "\n",
    "grid_search = GridSearchCV(estimator=xgb_model, param_grid=param_grid, scoring='neg_mean_squared_error', cv=3)\n",
    "grid_search.fit(X_train, y_train)\n",
    "\n",
    "best_params = grid_search.best_params_\n",
    "print(f\"Best Parameters: {best_params}\")\n",
    "\n",
    "# Retrain the XGBoost model with the best parameters\n",
    "xg_reg_optimized = xgb.XGBRegressor(**best_params)\n",
    "xg_reg_optimized.fit(X_train, y_train)\n"
   ]
  },
  {
   "cell_type": "code",
   "execution_count": 15,
   "id": "f1b0a8d9",
   "metadata": {},
   "outputs": [
    {
     "name": "stdout",
     "output_type": "stream",
     "text": [
      "Best Threshold for Precision: 4.61705207824707\n",
      "Optimized Precision: 1.0\n"
     ]
    }
   ],
   "source": [
    "from sklearn.metrics import precision_recall_curve\n",
    "\n",
    "# Binarize ratings: 1 for positive ratings (>=4), 0 for negative ratings (<4)\n",
    "threshold = 4.0\n",
    "y_true_binary = (y_test >= threshold).astype(int)\n",
    "\n",
    "# Get predicted probabilities\n",
    "y_pred_proba = xg_reg_optimized.predict(X_test)\n",
    "\n",
    "# Compute precision and recall at different thresholds\n",
    "precisions, recalls, thresholds = precision_recall_curve(y_true_binary, y_pred_proba)\n",
    "\n",
    "# Find the threshold that maximizes precision\n",
    "best_threshold = thresholds[np.argmax(precisions)]\n",
    "print(f\"Best Threshold for Precision: {best_threshold}\")\n",
    "\n",
    "# Apply the best threshold\n",
    "y_pred_best = (y_pred_proba >= best_threshold).astype(int)\n",
    "\n",
    "# Compute precision score at the best threshold\n",
    "from sklearn.metrics import precision_score\n",
    "precision_best = precision_score(y_true_binary, y_pred_best)\n",
    "print(f\"Optimized Precision: {precision_best}\")\n"
   ]
  },
  {
   "cell_type": "code",
   "execution_count": 16,
   "id": "542b8d08",
   "metadata": {},
   "outputs": [
    {
     "name": "stdout",
     "output_type": "stream",
     "text": [
      "Precision at 5: 1.0\n"
     ]
    }
   ],
   "source": [
    "import numpy as np\n",
    "\n",
    "def precision_at_k(y_true, y_pred, k):\n",
    "    # Sort predictions based on predicted ratings\n",
    "    top_k_predictions = np.argsort(y_pred)[-k:]  # Get top K predictions\n",
    "    relevant_items = np.where(y_true >= threshold)[0]  # Items with ratings >= threshold\n",
    "\n",
    "    # Compute precision at K\n",
    "    relevant_and_recommended = np.intersect1d(top_k_predictions, relevant_items)\n",
    "    precision_k = len(relevant_and_recommended) / k\n",
    "    return precision_k\n",
    "\n",
    "# Example: Precision at 5\n",
    "precision_k = precision_at_k(y_test, y_pred_proba, k=5)\n",
    "print(f\"Precision at 5: {precision_k}\")\n"
   ]
  },
  {
   "cell_type": "code",
   "execution_count": 17,
   "id": "eb8f8ac5",
   "metadata": {},
   "outputs": [
    {
     "name": "stdout",
     "output_type": "stream",
     "text": [
      "Best Threshold for Precision: 4.61705207824707\n",
      "Optimized Precision: 1.00\n",
      "Optimized Recall: 0.00\n",
      "Optimized F1-Score: 0.00\n"
     ]
    }
   ],
   "source": [
    "from sklearn.metrics import precision_recall_curve\n",
    "import numpy as np\n",
    "\n",
    "# Define the threshold for binary classification (e.g., ratings >= 4 are positive, < 4 are negative)\n",
    "threshold = 4.0\n",
    "y_true_binary = (y_test >= threshold).astype(int)  # 1 for positive ratings, 0 for negative\n",
    "\n",
    "# Get predicted probabilities from the XGBoost model\n",
    "y_pred_proba = xg_reg_optimized.predict(X_test)\n",
    "\n",
    "# Compute precision-recall curve\n",
    "precisions, recalls, thresholds = precision_recall_curve(y_true_binary, y_pred_proba)\n",
    "\n",
    "# Find the threshold that maximizes precision\n",
    "best_threshold = thresholds[np.argmax(precisions)]\n",
    "print(f\"Best Threshold for Precision: {best_threshold}\")\n",
    "\n",
    "# Apply the best threshold to the predicted probabilities\n",
    "y_pred_best = (y_pred_proba >= best_threshold).astype(int)\n",
    "\n",
    "# Compute precision score at the best threshold\n",
    "from sklearn.metrics import precision_score, recall_score, f1_score\n",
    "\n",
    "precision_best = precision_score(y_true_binary, y_pred_best)\n",
    "recall_best = recall_score(y_true_binary, y_pred_best)\n",
    "f1_best = f1_score(y_true_binary, y_pred_best)\n",
    "\n",
    "print(f\"Optimized Precision: {precision_best:.2f}\")\n",
    "print(f\"Optimized Recall: {recall_best:.2f}\")\n",
    "print(f\"Optimized F1-Score: {f1_best:.2f}\")\n"
   ]
  },
  {
   "cell_type": "code",
   "execution_count": 18,
   "id": "ae273455",
   "metadata": {},
   "outputs": [
    {
     "name": "stdout",
     "output_type": "stream",
     "text": [
      "Precision at 5: 1.00\n"
     ]
    }
   ],
   "source": [
    "def precision_at_k(y_true, y_pred, k):\n",
    "    \"\"\"\n",
    "    Function to compute Precision at K.\n",
    "    \n",
    "    Args:\n",
    "    y_true: Actual ratings of items (e.g., ratings of user for items)\n",
    "    y_pred: Predicted ratings for items\n",
    "    k: Number of top recommendations to consider\n",
    "    \n",
    "    Returns:\n",
    "    Precision at K value\n",
    "    \"\"\"\n",
    "    # Sort the predictions based on the predicted scores\n",
    "    top_k_indices = np.argsort(y_pred)[-k:]  # Get indices of top K predictions\n",
    "    \n",
    "    # Get relevant items (those with actual ratings >= threshold)\n",
    "    relevant_items = np.where(y_true >= threshold)[0]\n",
    "    \n",
    "    # Compute Precision at K: relevant items in the top K predictions / K\n",
    "    relevant_in_top_k = np.intersect1d(top_k_indices, relevant_items)\n",
    "    precision_k = len(relevant_in_top_k) / k\n",
    "    \n",
    "    return precision_k\n",
    "\n",
    "# Example: Compute Precision at 5 for a test set\n",
    "precision_k_value = precision_at_k(y_test, y_pred_proba, k=5)\n",
    "print(f\"Precision at 5: {precision_k_value:.2f}\")\n"
   ]
  },
  {
   "cell_type": "code",
   "execution_count": 19,
   "id": "e40e27b7",
   "metadata": {},
   "outputs": [
    {
     "name": "stdout",
     "output_type": "stream",
     "text": [
      "Best Parameters: {'colsample_bytree': 0.3, 'learning_rate': 0.2, 'max_depth': 8, 'n_estimators': 200}\n"
     ]
    }
   ],
   "source": [
    "from sklearn.model_selection import GridSearchCV\n",
    "import xgboost as xgb\n",
    "\n",
    "# Define the parameter grid for XGBoost\n",
    "param_grid = {\n",
    "    'max_depth': [4, 6, 8],\n",
    "    'learning_rate': [0.01, 0.1, 0.2],\n",
    "    'n_estimators': [100, 200],\n",
    "    'colsample_bytree': [0.3, 0.7]\n",
    "}\n",
    "\n",
    "# Initialize XGBoost model\n",
    "xgb_model = xgb.XGBRegressor(objective='reg:squarederror')\n",
    "\n",
    "# Perform grid search with cross-validation\n",
    "grid_search = GridSearchCV(estimator=xgb_model, param_grid=param_grid, scoring='neg_mean_squared_error', cv=3)\n",
    "grid_search.fit(X_train, y_train)\n",
    "\n",
    "# Get the best parameters and retrain the model\n",
    "best_params = grid_search.best_params_\n",
    "print(f\"Best Parameters: {best_params}\")\n",
    "\n",
    "# Retrain XGBoost with the best parameters\n",
    "xg_reg_optimized = xgb.XGBRegressor(**best_params)\n",
    "xg_reg_optimized.fit(X_train, y_train)\n",
    "\n",
    "# Evaluate the optimized model\n",
    "y_pred_proba = xg_reg_optimized.predict(X_test)\n"
   ]
  },
  {
   "cell_type": "code",
   "execution_count": 20,
   "id": "e4f019e0",
   "metadata": {},
   "outputs": [
    {
     "name": "stdout",
     "output_type": "stream",
     "text": [
      "Precision: 0.93\n",
      "Recall: 0.01\n",
      "F1-Score: 0.01\n",
      "Accuracy: 0.46\n"
     ]
    }
   ],
   "source": [
    "from sklearn.metrics import precision_score, recall_score, f1_score, accuracy_score\n",
    "\n",
    "# Assuming we already have a binarized test set (y_true_binary) and predicted probabilities (y_pred_proba)\n",
    "# Apply the best threshold found earlier\n",
    "y_pred_best = (y_pred_proba >= best_threshold).astype(int)\n",
    "\n",
    "# Evaluate model with precision, recall, F1-score, and accuracy\n",
    "precision_best = precision_score(y_true_binary, y_pred_best)\n",
    "recall_best = recall_score(y_true_binary, y_pred_best)\n",
    "f1_best = f1_score(y_true_binary, y_pred_best)\n",
    "accuracy_best = accuracy_score(y_true_binary, y_pred_best)\n",
    "\n",
    "print(f\"Precision: {precision_best:.2f}\")\n",
    "print(f\"Recall: {recall_best:.2f}\")\n",
    "print(f\"F1-Score: {f1_best:.2f}\")\n",
    "print(f\"Accuracy: {accuracy_best:.2f}\")\n"
   ]
  },
  {
   "cell_type": "code",
   "execution_count": 21,
   "id": "4fee7f60",
   "metadata": {},
   "outputs": [
    {
     "name": "stdout",
     "output_type": "stream",
     "text": [
      "Precision at 5: 1.00\n"
     ]
    }
   ],
   "source": [
    "import numpy as np\n",
    "\n",
    "def precision_at_k(y_true, y_pred, k):\n",
    "    \"\"\"\n",
    "    Function to compute Precision at K for recommendation systems.\n",
    "    \n",
    "    Args:\n",
    "    y_true: Actual ratings of items (e.g., ratings of user for items)\n",
    "    y_pred: Predicted ratings for items\n",
    "    k: Number of top recommendations to consider\n",
    "    \n",
    "    Returns:\n",
    "    Precision at K value\n",
    "    \"\"\"\n",
    "    # Sort the predictions based on the predicted scores\n",
    "    top_k_indices = np.argsort(y_pred)[-k:]  # Get indices of top K predictions\n",
    "    \n",
    "    # Get relevant items (those with actual ratings >= threshold)\n",
    "    relevant_items = np.where(y_true >= threshold)[0]\n",
    "    \n",
    "    # Compute Precision at K: relevant items in the top K predictions / K\n",
    "    relevant_in_top_k = np.intersect1d(top_k_indices, relevant_items)\n",
    "    precision_k = len(relevant_in_top_k) / k\n",
    "    \n",
    "    return precision_k\n",
    "\n",
    "# Example: Compute Precision at 5 for the test set\n",
    "precision_k_value = precision_at_k(y_test, y_pred_proba, k=5)\n",
    "print(f\"Precision at 5: {precision_k_value:.2f}\")\n"
   ]
  },
  {
   "cell_type": "code",
   "execution_count": 22,
   "id": "83ff4110",
   "metadata": {},
   "outputs": [
    {
     "data": {
      "image/png": "[encoded data removed]",
      "text/plain": [
       "<Figure size 800x600 with 1 Axes>"
      ]
     },
     "metadata": {},
     "output_type": "display_data"
    }
   ],
   "source": [
    "from sklearn.metrics import roc_curve, roc_auc_score\n",
    "import matplotlib.pyplot as plt\n",
    "\n",
    "# Compute ROC curve\n",
    "fpr, tpr, thresholds = roc_curve(y_true_binary, y_pred_proba)\n",
    "auc_score = roc_auc_score(y_true_binary, y_pred_proba)\n",
    "\n",
    "# Plot ROC curve\n",
    "plt.figure(figsize=(8, 6))\n",
    "plt.plot(fpr, tpr, color='blue', label=f'AUC = {auc_score:.2f}')\n",
    "plt.plot([0, 1], [0, 1], color='red', linestyle='--')\n",
    "plt.xlabel('False Positive Rate')\n",
    "plt.ylabel('True Positive Rate')\n",
    "plt.title('ROC Curve')\n",
    "plt.legend(loc='lower right')\n",
    "plt.show()\n"
   ]
  },
  {
   "cell_type": "code",
   "execution_count": null,
   "id": "aac6ba8b",
   "metadata": {},
   "outputs": [],
   "source": []
  }
 ],
 "metadata": {
  "kernelspec": {
   "display_name": "Python 3 (ipykernel)",
   "language": "python",
   "name": "python3"
  },
  "language_info": {
   "codemirror_mode": {
    "name": "ipython",
    "version": 3
   },
   "file_extension": ".py",
   "mimetype": "text/x-python",
   "name": "python",
   "nbconvert_exporter": "python",
   "pygments_lexer": "ipython3",
   "version": "3.10.9"
  }
 },
 "nbformat": 4,
 "nbformat_minor": 5
}
